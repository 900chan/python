{
 "cells": [
  {
   "cell_type": "markdown",
   "metadata": {
    "id": "WXEwMsfUct7U"
   },
   "source": [
    "컴퓨터 기초 지식을 의미하는 CS(Computer science)는<br>\n",
    "코딩 테스트와 함께 기술 면접에서 지원자에게 필수적으로 요구합니다.<br>\n",
    "\n",
    "수업 내용 중 기술 면접에 자주 나오는 질문 3가지와 기본적으로 알아야 할 내용 과제로 선정했습니다.<br>\n",
    "\n",
    "관련 내용에 대해서는 구글링 또는 관련 서적을 통해 상세히 공부하시고<br>\n",
    "답변은 최대한 핵심만 담아 간결하게 작성해주세요<br>\n",
    "\n",
    "기술 블로그를 운영 중이신 경우<br>\n",
    "답변 내용을 기술 블로그에 작성하신 후 링크를 답변에 남겨주셔도 됩니다.<br>"
   ]
  },
  {
   "cell_type": "markdown",
   "metadata": {
    "id": "qoyC9wF-3hvs"
   },
   "source": [
    "-----"
   ]
  },
  {
   "cell_type": "markdown",
   "metadata": {
    "id": "rAD_O3Gmc_43"
   },
   "source": [
    "[문제1]\n",
    "\n",
    "파이썬 2.7 버전과 파이썬 3에서 range 차이를 설명해주세요"
   ]
  },
  {
   "cell_type": "markdown",
   "metadata": {},
   "source": [
    "파이썬 2.7은 range를 사용하면 실제로 연속된 숫자가 들어있는 리스트를 만들어내지만 \n",
    "파이썬 3은 range 객체(반복된 객체)를 만들어낸다.\n",
    "파이썬 2.7에선 리스트를 만들어내므로 아주 큰 숫자를 지정하면 메모리를 많이 사용하게돼서 리스트 대신 객체를 생성할 때는 xrange를 사용한다. \n",
    "파이썬 3에서는 range가 객체를 생성하는 방식으로 바뀌었다."
   ]
  },
  {
   "cell_type": "markdown",
   "metadata": {},
   "source": [
    "---"
   ]
  },
  {
   "cell_type": "markdown",
   "metadata": {
    "id": "3uK_auXYdgk2"
   },
   "source": [
    "[문제2]\n",
    "\n",
    "Python의 얕은 복사와 깊은 복사에 대해서 설명하세요"
   ]
  },
  {
   "cell_type": "markdown",
   "metadata": {},
   "source": [
    "얕은 복사와 깊은 복사에 대해 설명하기 전 Python에는 immutable 객체와 mutable객체가 있다.\n",
    "immutable 객체는 값을 바꿀 수 없는 객체이며, 값이 바뀌면 다른 메모리 공간을 할당하여 주소값도 바꿔줘야한다.\n",
    "반면, mutable 객체는 주소값이 동일하더라도 그 안의 값을 바꿀 수 있는 객체이다.\n",
    "immutable 객체 - int, str, float, boolean, tuple \n",
    "mutable 객체 - list, dict, set\n",
    "얕은 복사와 깊은 복사는 mutable 객체를 복사할 때만 신경쓰면 된다.\n",
    "\n",
    "얕은 복사\n",
    ": 객체의 참조값, 흔히 말하는 주소값만 복사하는 것을 의미.   \n",
    "  객체의 주소값을 복사하기 때문에, 복사 대상의 값이 바뀌면 복사한 값도 바뀌게 된다. \n",
    "  결과적으로 두 변수간 독립성이 성립하지 않게 된다.\n",
    "\n",
    "깊은 복사\n",
    ": 깊은 복사는 다른 메모리 공간에 값을 복사함으로써, mutable 객체의 독립성을 유지해 주는 역할을 한다.\n",
    "  copy모듈의 deepcopy 함수를 사용하여 깊은 복사를 할 수 있다.\n",
    "  a를 b에 깊은 복사하는 순간, a와 b의 주소값이 달라진다."
   ]
  }
 ],
 "metadata": {
  "colab": {
   "authorship_tag": "ABX9TyP7YKA5FdtGggYfD74V7SMJ",
   "provenance": []
  },
  "kernelspec": {
   "display_name": "Python 3",
   "name": "python3"
  },
  "language_info": {
   "name": "python"
  }
 },
 "nbformat": 4,
 "nbformat_minor": 0
}
