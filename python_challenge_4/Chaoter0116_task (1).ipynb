{
  "cells": [
    {
      "cell_type": "markdown",
      "metadata": {
        "id": "BX7SgOeWu86I"
      },
      "source": [
        "안녕하세요. 수강생 여러분~!\n",
        "\n",
        "다시 돌아온 조금 더 성장할 기 ! 회 !\n",
        "\n",
        "Chapter01 ~ 16의 수업 내용을 바탕으로 아래 문제를 풀어주시면 됩니다 !\n",
        "\n",
        "지금까지 잘 해오셨으니까, 총 복습한다고 생각하시고 한번 도전해보세요 !!!\n",
        "\n",
        "차근 차근 문제와 요구사항을 읽고 작성해보세요.\n",
        "\n",
        "<br>\n",
        "\n",
        "\n",
        "[**답변 입력 방법**]\n",
        "\n",
        "문제 아래에 있는 코드 입력창에 정답코드를 작성하신 후  __▷ 버튼을 클릭해 코드를 실행__ 해보세요<br>"
      ]
    },
    {
      "cell_type": "markdown",
      "metadata": {
        "id": "AH_WutbSgOwY"
      },
      "source": [
        "---"
      ]
    },
    {
      "cell_type": "markdown",
      "metadata": {
        "id": "PZ9aOrmogOwZ"
      },
      "source": [
        "#### 프로젝트: 붕어빵 자동 판매 시스템\n",
        "\n",
        "\n",
        "당신은 붕어빵 가게의 주인입니다.\n",
        "\n",
        "손님들이 붕어빵을 주문하면 이를 자동으로 처리하고, 재고를 관리하는 시스템을 만들고자 합니다.\n",
        "\n",
        "또한, 관리자 모드를 통해 재고를 추가할 수 있는 기능을 구현해야 합니다.\n"
      ]
    },
    {
      "cell_type": "markdown",
      "metadata": {
        "id": "4r7xPnCPgOwZ"
      },
      "source": [
        "__[문제 1: 붕어빵 재고 확인]__\n",
        "\n",
        "붕어빵 가게의 현재 재고를 확인하는 기능을 구현하세요.\n",
        "\n",
        "요구사항:\n",
        "- 현재 붕어빵의 재고를 딕셔너리로 관리합니다.\n",
        "- 딕셔너리에는 붕어빵의 종류와 각각의 재고 개수가 저장됩니다.\n",
        "- 현재 재고를 화면에 출력하세요.\n",
        "\n",
        "붕어빵 재고\n",
        "- 팥붕어빵 : 10개\n",
        "- 슈크림붕어빵 : 8개\n",
        "- 초코붕어빵 : 5개"
      ]
    },
    {
      "cell_type": "code",
      "execution_count": 15,
      "metadata": {
        "colab": {
          "base_uri": "https://localhost:8080/"
        },
        "id": "u8xTeqmJgOwa",
        "outputId": "5aad351b-97be-4715-91d7-b8d5e83cb0a1"
      },
      "outputs": [
        {
          "output_type": "stream",
          "name": "stdout",
          "text": [
            "붕어빵 재고 현황입니다. {'팥붕어빵': 10, '슈크림붕어빵': 8, '초코붕어빵': 5}\n"
          ]
        }
      ],
      "source": [
        "inven = {\"팥붕어빵\":10, \"슈크림붕어빵\":8, \"초코붕어빵\":5}\n",
        "\n",
        "print(f'붕어빵 재고 현황입니다. {inven}')"
      ]
    },
    {
      "cell_type": "markdown",
      "metadata": {
        "id": "6TlOO3ICgOwa"
      },
      "source": [
        "__[문제 2: 붕어빵 주문 받기]__\n",
        "\n",
        "손님이 주문한 붕어빵의 종류와 개수를 입력받는 기능을 구현하세요.\n",
        "\n",
        "요구사항:\n",
        "- 손님이 주문할 붕어빵의 종류와 개수를 입력받습니다.\n",
        "- 주문 내용을 딕셔너리에 저장하세요.\n",
        "- 주문 내역을 출력해주세요."
      ]
    },
    {
      "cell_type": "code",
      "execution_count": 16,
      "metadata": {
        "colab": {
          "base_uri": "https://localhost:8080/"
        },
        "id": "lMo_dsYZgOwa",
        "outputId": "cc3fc07d-7927-49d5-ee4e-80327b6fddb4"
      },
      "outputs": [
        {
          "output_type": "stream",
          "name": "stdout",
          "text": [
            "주문하실 붕어빵 종류를 입력하세요. : 초코\n",
            "주문하실 붕어빵 개수를 입력하세요. : 3\n",
            "주문 내역 : {'초코': 3}\n"
          ]
        }
      ],
      "source": [
        "recipt = {}\n",
        "\n",
        "order = input('주문하실 붕어빵 종류를 입력하세요. : ')\n",
        "order_count = int(input(\"주문하실 붕어빵 개수를 입력하세요. : \"))\n",
        "recipt[order] = order_count\n",
        "print(f'주문 내역 : {recipt}')\n",
        "\n"
      ]
    },
    {
      "cell_type": "markdown",
      "metadata": {
        "id": "NsVRfsvvgOwa"
      },
      "source": [
        "__[문제 3: 붕어빵 주문 처리]__\n",
        "\n",
        "손님의 주문을 처리하여 붕어빵 재고를 업데이트하는 기능을 구현하세요.\n",
        "\n",
        "요구사항:\n",
        "- 손님의 주문 내용을 기반으로 재고를 업데이트합니다.\n",
        "- 재고가 부족할 경우, 손님에게 재고 부족을 알리고 재고를 감소시키지 않습니다.\n",
        "- 재고가 충분할 경우, 주문한 만큼 재고를 감소시키고 판매를 완료합니다.\n",
        "- 판매가 완료된 경우 판매된 붕어빵 맛과 개수를 출력하세요."
      ]
    },
    {
      "cell_type": "code",
      "execution_count": 23,
      "metadata": {
        "colab": {
          "base_uri": "https://localhost:8080/"
        },
        "id": "OpVBcRmngOwb",
        "outputId": "73b5069d-a6c6-47a4-bc28-686ab1f208fe"
      },
      "outputs": [
        {
          "output_type": "stream",
          "name": "stdout",
          "text": [
            "붕어빵 재고 현황입니다. {'팥붕어빵': 10, '슈크림붕어빵': 8, '초코붕어빵': 5}\n",
            "주문하실 붕어빵 종류를 입력하세요. : 팥붕어빵\n",
            "주문하실 붕어빵 개수를 입력하세요. : 12\n",
            "주문 내역 : {'팥붕어빵': 12}\n",
            "죄송합니다. 팥붕어빵 현재 재고가 부족하여 제한이 있습니다..\n"
          ]
        }
      ],
      "source": [
        "if inven[order] >= order_count:\n",
        "    inven[order] -= order_count\n",
        "    print(f\"{order} {order_count}개 결제가 완료되었습니다.\")\n",
        "else:\n",
        "    print(f\"죄송합니다. {order}이 현재 재고가 부족하여 제한이 있습니다..\")"
      ]
    },
    {
      "cell_type": "markdown",
      "metadata": {
        "id": "6rm0DuevgOwb"
      },
      "source": [
        "__[문제 4: 여러 손님 주문 처리]__\n",
        "\n",
        "여러 손님들의 주문을 처리할 수 있도록 시스템을 확장하세요.\n",
        "\n",
        "요구사항:\n",
        "- 손님이 \"종료\"를 입력할 때까지 주문을 계속 받습니다.\n",
        "- 각 주문마다 재고를 업데이트합니다.\n",
        "- 현재 재고를 화면에 출력합니다."
      ]
    },
    {
      "cell_type": "code",
      "execution_count": 25,
      "metadata": {
        "colab": {
          "base_uri": "https://localhost:8080/"
        },
        "id": "aGwpNQvKgOwb",
        "outputId": "7f16012d-3e02-488c-df4a-7657cd08b55b"
      },
      "outputs": [
        {
          "name": "stdout",
          "output_type": "stream",
          "text": [
            "주문하실 붕어빵 종류를 입력하세요 (팥붕어빵, 슈크림붕어빵, 초코붕어빵). 종료를 입력하시면 나갈 수 있습니다. : 초코붕어빵\n",
            "주문할 붕어빵 개수를 입력하세요: 13\n",
            "죄송합니다. 초코붕어빵 재고가 부족합니다.\n",
            "현재 붕어빵 재고:\n",
            "팥붕어빵: 10개\n",
            "슈크림붕어빵: 8개\n",
            "초코붕어빵: 5개\n",
            "주문하실 붕어빵 종류를 입력하세요 (팥붕어빵, 슈크림붕어빵, 초코붕어빵). 종료를 입력하시면 나갈 수 있습니다. : 종료\n"
          ]
        }
      ],
      "source": [
        "while True:\n",
        "    order = input(\"주문하실 붕어빵 종류를 입력하세요 (팥붕어빵, 슈크림붕어빵, 초코붕어빵). 종료를 입력하시면 나갈 수 있습니다. : \")\n",
        "    if order == \"종료\":\n",
        "        break\n",
        "    order_count = int(input(\"주문할 붕어빵 개수를 입력하세요: \"))\n",
        "\n",
        "    if inven[order] >= order_count:\n",
        "        inven[order] -= order_count\n",
        "        print(f\"{order} {order_count}개를 판매했습니다.\")\n",
        "    else:\n",
        "        print(f\"죄송합니다. {order} 재고가 부족합니다.\")\n",
        "\n",
        "    print(\"현재 붕어빵 재고:\")\n",
        "    for bread, count in inven.items():\n",
        "        print(f\"{bread}: {count}개\")"
      ]
    },
    {
      "cell_type": "markdown",
      "metadata": {
        "id": "p_2SP0-3gOwb"
      },
      "source": [
        "__[문제 5: 관리자 모드]__\n",
        "\n",
        "관리자 모드를 통해 붕어빵 재고를 추가할 수 있는 기능을 구현하세요.\n",
        "\n",
        "요구사항:\n",
        "- 관리자는 특정 붕어빵의 재고를 추가할 수 있습니다.\n",
        "- \"종료\"를 입력하면 관리자 모드를 종료합니다.\n",
        "- 추가된 재고를 업데이트하고 현재 재고를 화면에 출력합니다."
      ]
    },
    {
      "cell_type": "code",
      "execution_count": 26,
      "metadata": {
        "colab": {
          "base_uri": "https://localhost:8080/"
        },
        "id": "6hp3RGeegOwc",
        "outputId": "0a29fc94-0a49-4ed5-ec67-cb5582665d24"
      },
      "outputs": [
        {
          "name": "stdout",
          "output_type": "stream",
          "text": [
            "추가할 붕어빵 종류를 입력하세요 (팥붕어빵, 슈크림붕어빵, 초코붕어빵). 종료를 입력하시면 나갈 수 있습니다. : 초코붕어빵\n",
            "초코붕어빵의 추가할 수량을 입력하세요: 15\n",
            "초코붕어빵의 재고가 15개 추가되었습니다.\n",
            "현재 붕어빵 재고:\n",
            "팥붕어빵: 10개\n",
            "슈크림붕어빵: 8개\n",
            "초코붕어빵: 20개\n",
            "추가할 붕어빵 종류를 입력하세요 (팥붕어빵, 슈크림붕어빵, 초코붕어빵). 종료를 입력하시면 나갈 수 있습니다. : 종료\n"
          ]
        }
      ],
      "source": [
        "from types import CoroutineType\n",
        "while True:\n",
        "    order = input(\"추가할 붕어빵 종류를 입력하세요 (팥붕어빵, 슈크림붕어빵, 초코붕어빵). 종료를 입력하시면 나갈 수 있습니다. : \")\n",
        "    if order == \"종료\":\n",
        "        break\n",
        "    inven_add = int(input(f\"{order}의 추가할 수량을 입력하세요: \"))\n",
        "    inven[order] += inven_add\n",
        "    print(f\"{order}의 재고가 {inven_add}개 추가되었습니다.\")\n",
        "    print(\"현재 붕어빵 재고:\")\n",
        "    for bread, count in inven.items():\n",
        "        print(f\"{bread}: {count}개\")"
      ]
    },
    {
      "cell_type": "markdown",
      "metadata": {
        "id": "2EBhEUE1gOwc"
      },
      "source": [
        "__[문제 6: 매출 확인]__\n",
        "\n",
        "붕어빵 판매 가격을 설정하고, 판매한 붕어빵의 매출을 계산하세요.\n",
        "\n",
        "요구사항:\n",
        "- 각 붕어빵의 가격을 딕셔너리로 관리합니다.\n",
        "- 판매된 붕어빵의 종류와 개수를 딕셔너리로 관리합니다.\n",
        "- 총 매출을 계산하여 출력합니다.\n",
        "\n",
        "초기 설정:\n",
        "- 가격\n",
        "    - \"팥붕어빵\": 1000\n",
        "    - \"슈크림붕어빵\": 1200\n",
        "    - \"초코붕어빵\": 1500\n",
        "\n",
        "- 판매 개수\n",
        "    - \"팥붕어빵\": 0\n",
        "    - \"슈크림붕어빵\": 0\n",
        "    - \"초코붕어빵\": 0"
      ]
    },
    {
      "cell_type": "code",
      "execution_count": 27,
      "metadata": {
        "colab": {
          "base_uri": "https://localhost:8080/"
        },
        "id": "Sf6PuLsRgOwc",
        "outputId": "d77e59ca-8ebd-4b6e-85d8-398bebc3bf6c"
      },
      "outputs": [
        {
          "output_type": "stream",
          "name": "stdout",
          "text": [
            "총 매출: 0원\n"
          ]
        }
      ],
      "source": [
        "price = {\n",
        "    \"팥붕어빵\": 1000,\n",
        "    \"슈크림붕어빵\": 1200,\n",
        "    \"초코붕어빵\": 1500\n",
        "}\n",
        "sell = {\n",
        "    \"팥붕어빵\": 0,\n",
        "    \"슈크림붕어빵\": 0,\n",
        "    \"초코붕어빵\": 0\n",
        "}\n",
        "\n",
        "total_sell = sum(sell[bread] * price[bread] for bread in sell)\n",
        "print(f\"총 매출: {total_sell}원\")"
      ]
    }
  ],
  "metadata": {
    "colab": {
      "provenance": []
    },
    "kernelspec": {
      "display_name": "Python 3",
      "name": "python3"
    },
    "language_info": {
      "codemirror_mode": {
        "name": "ipython",
        "version": 3
      },
      "file_extension": ".py",
      "mimetype": "text/x-python",
      "name": "python",
      "nbconvert_exporter": "python",
      "pygments_lexer": "ipython3",
      "version": "3.11.7"
    }
  },
  "nbformat": 4,
  "nbformat_minor": 0
}