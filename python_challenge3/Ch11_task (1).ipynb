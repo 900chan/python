{
  "cells": [
    {
      "cell_type": "markdown",
      "metadata": {
        "id": "BlMX_znAKVwB"
      },
      "source": [
        "<span style=\"font-size:100%\">\n",
        "\n",
        "수업은 모두 열심히 들으셨나요?\n",
        "\n",
        "간혹 강의에서 언급되지 않은 내용이 문제로 나올 수 있습니다.<br>\n",
        "그럴땐 강의 내용 외 문제는 구글링을 통해 해결해주세요<br></span>\n",
        "<span style=\"font-size:80%\">\n",
        "(구글링 또한 개발자가 갖쳐야할 역량 중에 하나랍니다 😊)\n",
        "</span>\n",
        "\n",
        "---"
      ]
    },
    {
      "cell_type": "markdown",
      "metadata": {
        "id": "bBrV3M2uKVwC"
      },
      "source": []
    },
    {
      "cell_type": "markdown",
      "metadata": {
        "id": "dtXWQVjbKVwC"
      },
      "source": [
        "<span style=\"font-size:80%\">[문제1]<br><br></span>\n",
        "tuple과 list의 차이점으로 올바른 것을 모두 골라주세요\n",
        "\n",
        "1. list만 인덱싱이 가능해 원하는 값을 인덱스로 추출할 수 있다.\n",
        "2. tuple은 불변이고 list는 가변이다.\n",
        "3. tuple은 소괄호( () )를 사용하고 리스트는 대괄호( [ ] )를 사용한다.\n",
        "4. 튜플은 입출력이 자주 발행하는 경우 사용하고 리스트는 입출력이 자주 발생하지 않는 상황에 사용한다"
      ]
    },
    {
      "cell_type": "markdown",
      "metadata": {
        "id": "4DTHyUjBKVwD"
      },
      "source": [
        "<span style=\"color:red\">답변</span>"
      ]
    },
    {
      "cell_type": "markdown",
      "metadata": {
        "id": "eb71pqfjKVwD"
      },
      "source": [
        "2, 3\n"
      ]
    },
    {
      "cell_type": "markdown",
      "metadata": {
        "id": "IoZ5KBf2KVwD"
      },
      "source": [
        "----"
      ]
    },
    {
      "cell_type": "markdown",
      "metadata": {
        "id": "ReHmlLOmKVwD"
      },
      "source": [
        "<span style=\"font-size:80%\">[문제2]<br><br></span>\n",
        "tuple a에 사용할 수 없는 코드를 골라주세요<br>\n",
        "a = (20, 10, 15)\n",
        "\n",
        "1. print(a[:])\n",
        "2. a.pop()\n",
        "3. sum(a)\n",
        "4. a.count(20)"
      ]
    },
    {
      "cell_type": "markdown",
      "metadata": {
        "id": "B21nTfzTKVwD"
      },
      "source": [
        "<span style=\"color:red\">답변</span>"
      ]
    },
    {
      "cell_type": "markdown",
      "metadata": {
        "id": "1NKWnpPgKVwE"
      },
      "source": [
        "2. a.pop()   \n",
        ": pop은 삭제 및 반환하는 역할로 리스트에서 주로 사용"
      ]
    },
    {
      "cell_type": "markdown",
      "metadata": {
        "id": "Lny-UKOlKVwE"
      },
      "source": [
        "----"
      ]
    },
    {
      "cell_type": "markdown",
      "metadata": {
        "id": "hs6kN04WKVwE"
      },
      "source": [
        "<span style=\"font-size:80%\">[문제3]<br><br></span>\n",
        "아래 코드를 실행시켰을 때 발생하는 상황과 원인을 간략히 설명해주세요\n",
        "\n",
        "```\n",
        "바구니 = ( \"상추\", \"깻잎\", \"삼겹살\")\n",
        "바구니[1] = \"고사리\"\n",
        "```"
      ]
    },
    {
      "cell_type": "markdown",
      "metadata": {
        "id": "GCalFfrUKVwE"
      },
      "source": [
        "<span style=\"color:red\">답변</span>"
      ]
    },
    {
      "cell_type": "markdown",
      "metadata": {
        "id": "Tn57Wv2cKVwE"
      },
      "source": [
        "TypeError: 'tuple' object does not support item assignment  \n",
        "\n",
        ":이 오류가 나는 이유는 바구니가 튜플로 변경할 수 없기 때문이다. 변경할 수 없는 튜플인데 고사리로 변경을 하려했기에 오류가 난 것이다.\n"
      ]
    },
    {
      "cell_type": "markdown",
      "metadata": {
        "id": "ZXqn-jcIKVwE"
      },
      "source": [
        "----"
      ]
    }
  ],
  "metadata": {
    "language_info": {
      "name": "python"
    },
    "colab": {
      "provenance": []
    },
    "kernelspec": {
      "name": "python3",
      "display_name": "Python 3"
    }
  },
  "nbformat": 4,
  "nbformat_minor": 0
}