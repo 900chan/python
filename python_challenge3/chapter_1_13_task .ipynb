{
  "cells": [
    {
      "cell_type": "markdown",
      "metadata": {
        "id": "fD4Qab2qYgOm"
      },
      "source": [
        "안녕하세요. 수강생 여러분~!\n",
        "\n",
        "Chapter01 ~ 13의 수업 내용을 바탕으로 아래 문제를 풀어주시면 됩니다 !\n",
        "\n",
        "지금까지 잘 해오셨으니까, 총 복습한다고 생각하시고 한번 도전해보세요 !!!\n",
        "\n",
        "\n",
        "<br>\n",
        "\n",
        "\n",
        "[**답변 입력 방법**]\n",
        "\n",
        "문제 아래에 있는 코드 입력창에 정답코드를 작성하신 후  __▷ 버튼을 클릭해 코드를 실행__ 해보세요<br>"
      ]
    },
    {
      "cell_type": "markdown",
      "metadata": {
        "id": "j4BTMYqo4ARG"
      },
      "source": [
        "---"
      ]
    },
    {
      "cell_type": "markdown",
      "metadata": {
        "id": "mdAfGnen4ARH"
      },
      "source": [
        "### 프로젝트: 간단한 ATM 관리 시스템\n",
        "<br>\n",
        "\n",
        "__[문제 1: 잔액 확인]__\n",
        "\n",
        "현재 잔액은 1000원입니다. 현재 잔액을 출력하세요.\n",
        "\n",
        "(변수명 예시 : 잔액 - balance)"
      ]
    },
    {
      "cell_type": "code",
      "execution_count": null,
      "metadata": {
        "colab": {
          "base_uri": "https://localhost:8080/"
        },
        "id": "ksVFpKLc4ARH",
        "outputId": "e8c5c20f-84ee-45f9-a5eb-7e2f9fa5fbc9"
      },
      "outputs": [
        {
          "output_type": "stream",
          "name": "stdout",
          "text": [
            "현재 잔액은 1000원 입니다.\n"
          ]
        }
      ],
      "source": [
        "change_money = 1000\n",
        "print(f'현재 잔액은 {change_money}원 입니다.')\n"
      ]
    },
    {
      "cell_type": "markdown",
      "metadata": {
        "id": "usytCvgd4ARH"
      },
      "source": [
        "__[문제 2: 입금]__\n",
        "\n",
        "가지고 있는 돈을 입금합니다.\n",
        "\n",
        "입금 금액을 입력받고, 잔액을 갱신한 후 새로운 잔액을 출력하세요. 입금 거래를 영수증 리스트에 기록하세요.\n",
        "\n",
        "- 입금 금액은 input()을 이용해 받습니다.\n",
        "- 영수증은 list()로 선언합니다.\n",
        "- 영수증에 들어가는 정보는 튜플 형태입니다.\n",
        "- 튜플에 담기는 정보는 (입금 or 출금, 입금 or 출금 금액, 현재 잔액)순 입니다.\n",
        "\n",
        "(변수명 예시: 영수증 리스트 - receipts, 입금 금액 - deposit_amount)\n"
      ]
    },
    {
      "cell_type": "code",
      "execution_count": 22,
      "metadata": {
        "colab": {
          "base_uri": "https://localhost:8080/"
        },
        "id": "E9N69Vdu4ARI",
        "outputId": "c0a49db7-b94d-4935-d534-545a47b34667"
      },
      "outputs": [
        {
          "output_type": "stream",
          "name": "stdout",
          "text": [
            "입금할 금액을 입력하세요: 4000\n",
            "새로운 잔액은 4000원 입니다.\n",
            "영수증 내역: [('입금', 4000, 4000)]\n"
          ]
        }
      ],
      "source": [
        "change_money = 0\n",
        "receipts = list()\n",
        "\n",
        "deposit_amount = int(input(\"입금할 금액을 입력하세요: \"))\n",
        "\n",
        "\n",
        "change_money += deposit_amount\n",
        "\n",
        "\n",
        "receipts.append(('입금', deposit_amount, change_money))\n",
        "\n",
        "\n",
        "print(f'새로운 잔액은 {change_money}원 입니다.')\n",
        "print(\"영수증 내역:\", receipts)\n",
        "\n"
      ]
    },
    {
      "cell_type": "markdown",
      "metadata": {
        "id": "PQPEkZqk4ARI"
      },
      "source": [
        "__[문제 3: 출금]__\n",
        "\n",
        "사용자가 돈을 출금합니다. 출금 금액을 입력받고, 잔액을 갱신한 후 새로운 잔액을 출력하세요. 출금 거래를 영수증 리스트에 기록하세요.\n",
        "\n",
        "- 출금 금액은 input()을 이용해 받습니다.\n",
        "- 현재 잔액보다 출금 요청 금액이 많을 경우 현재 잔액 만큼만 출금되도록 합니다.\n",
        "- 영수증에 들어가는 정보는 튜플 형태입니다.\n",
        "- 튜플에 담기는 정보는 (입금 or 출금, 입금 or 출금 금액, 현재 잔액)순 입니다.\n",
        "\n",
        "(변수명 예시: 출금금액 - withdraw_amount)"
      ]
    },
    {
      "cell_type": "code",
      "execution_count": 9,
      "metadata": {
        "id": "sX8A3yxZ4ARI",
        "colab": {
          "base_uri": "https://localhost:8080/"
        },
        "outputId": "ab1be688-1289-4cd7-fde7-acfd7782fd14"
      },
      "outputs": [
        {
          "output_type": "stream",
          "name": "stdout",
          "text": [
            "출금할 금액을 입력하세요: 3030\n",
            "새로운 잔액은 6970원 입니다.\n",
            "영수증 내역: [('출금', 3030, 6970)]\n"
          ]
        }
      ],
      "source": [
        "change_money = 10000\n",
        "receipts = list()\n",
        "\n",
        "withdraw_amount = int(input(\"출금할 금액을 입력하세요: \"))\n",
        "\n",
        "if withdraw_amount > change_money:\n",
        "    print(\"출금 요청 금액이 현재 잔액보다 많습니다.\")\n",
        "    withdraw_amount = change_money\n",
        "change_money -= withdraw_amount\n",
        "\n",
        "receipts.append(('출금', withdraw_amount, change_money))\n",
        "\n",
        "print(f\"새로운 잔액은 {change_money}원 입니다.\")\n",
        "print(\"영수증 내역:\", receipts)\n"
      ]
    },
    {
      "cell_type": "markdown",
      "metadata": {
        "id": "rgeLirP34ARI"
      },
      "source": [
        "__[문제 4: 모든 거래 내역 확인]__\n",
        "\n",
        "모든 거래 내역(영수증)을 요청받았을 때 출력하세요.\n",
        "- 지금까지 영수증에 추가된 정보를 출력합니다.\n",
        "- 출력 형태는 자유입니다."
      ]
    },
    {
      "cell_type": "code",
      "source": [
        "for deposit_amount, withdraw_amount, change_money in receipts:\n",
        "    print(f\"{deposit_amount}원 입금, {withdraw_amount}원 출금 , 잔액 : {change_money}원 입니다.\")"
      ],
      "metadata": {
        "colab": {
          "base_uri": "https://localhost:8080/"
        },
        "id": "a2rz3TS8E7Qi",
        "outputId": "fe2e242a-22b0-445c-acec-b404c5224c0c"
      },
      "execution_count": 27,
      "outputs": [
        {
          "output_type": "stream",
          "name": "stdout",
          "text": [
            "입금원 입금, 5000원 출금 , 잔액 : 5000원 입니다.\n",
            "출금원 입금, 2000원 출금 , 잔액 : 3000원 입니다.\n"
          ]
        }
      ]
    }
  ],
  "metadata": {
    "colab": {
      "provenance": []
    },
    "kernelspec": {
      "display_name": "Python 3",
      "name": "python3"
    },
    "language_info": {
      "name": "python"
    }
  },
  "nbformat": 4,
  "nbformat_minor": 0
}