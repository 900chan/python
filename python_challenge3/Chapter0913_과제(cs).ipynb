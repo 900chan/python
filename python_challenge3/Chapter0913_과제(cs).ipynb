{
  "cells": [
    {
      "cell_type": "markdown",
      "metadata": {
        "id": "WXEwMsfUct7U"
      },
      "source": [
        "컴퓨터 기초 지식을 의미하는 CS(Computer science)는<br>\n",
        "코딩 테스트와 함께 기술 면접에서 지원자에게 필수적으로 요구합니다.<br>\n",
        "\n",
        "수업 내용 중 기술 면접에 자주 나오는 질문 3가지와 기본적으로 알아야 할 내용 과제로 선정했습니다.<br>\n",
        "\n",
        "관련 내용에 대해서는 구글링 또는 관련 서적을 통해 상세히 공부하시고<br>\n",
        "답변은 최대한 핵심만 담아 간결하게 작성해주세요<br>\n",
        "\n",
        "기술 블로그를 운영 중이신 경우<br>\n",
        "답변 내용을 기술 블로그에 작성하신 후 링크를 답변에 남겨주셔도 됩니다.<br>"
      ]
    },
    {
      "cell_type": "markdown",
      "metadata": {
        "id": "qoyC9wF-3hvs"
      },
      "source": [
        "-----"
      ]
    },
    {
      "cell_type": "markdown",
      "metadata": {
        "id": "rAD_O3Gmc_43"
      },
      "source": [
        "[문제1]\n",
        "\n",
        "list와 tuple의 주된 차이점은 무엇인가요?"
      ]
    },
    {
      "cell_type": "markdown",
      "metadata": {
        "id": "pc-_FCWXX_5X"
      },
      "source": [
        "list와 tuple은 유사하지만 몇가지 차이점이있다.\n",
        "\n",
        "첫번째로는 list는 [], tuple은 ()로 작성한다.\n",
        "\n",
        "두번째, list는 값을 수정할 수 있지만, tuple은 값을 변경할 수 없다.\n",
        "\n",
        "list와 tuple의 주된 차이점은 값을 변경할 수 있는 가의 여부로, 프로그램이 실행 되는 동안 그 값이 변경되면 안되는 경우에는 tuple을 사용하면 된다."
      ]
    },
    {
      "cell_type": "markdown",
      "metadata": {
        "id": "thA64lKeX_5X"
      },
      "source": [
        "---"
      ]
    },
    {
      "cell_type": "markdown",
      "metadata": {
        "id": "3uK_auXYdgk2"
      },
      "source": [
        "[문제2]\n",
        "\n",
        "Python의 set에 대해 설명해주세요"
      ]
    },
    {
      "cell_type": "markdown",
      "metadata": {
        "id": "1qFAtCf-X_5Y"
      },
      "source": [
        "set은 집합에 관련된 것을 쉽게 처리하기 위해 만든 자료형이다.\n",
        "\n",
        "가장 큰 특징으로는 중복을 허용하지 않고 순서가 없다는 점이다. list나 tuple은 순서가 있기 때문에 인덱싱을 통해 자료형의 값을 얻을 수 있지만, set 자료형은 순서가 없기 때문에 인덱싱으로 값을 얻을 수 있다.\n",
        "\n",
        "만약 set 자료형에 저장된 값을 인덱싱으로 접근하려면 list나 tuple로 변환 후 가능하다."
      ]
    },
    {
      "cell_type": "markdown",
      "metadata": {
        "id": "Wzk5BQ94X_5Y"
      },
      "source": [
        "---"
      ]
    },
    {
      "cell_type": "markdown",
      "metadata": {
        "id": "tT8YU9LuX_5Y"
      },
      "source": [
        "[문제3]\n",
        "\n",
        "Python의 list는 연결리스트(linked list)인가요?"
      ]
    },
    {
      "cell_type": "markdown",
      "metadata": {
        "id": "QNtGI7orX_5Z"
      },
      "source": [
        "배열(array)과 연결 리스트(Linked list), 파이썬 리스트(Python list)\n",
        "\n",
        "array   \n",
        ": 배열은 입력된 데이터들이 메모리 공간에서 연속적으로 저장되어 있는 자료구조이다.\n",
        "메모리 상에서 연속적으로 저장되어 있는 특징을 갖기 때문에, index를 통한 접근이 용이하다.\n",
        "배열의 크기는 처음 생성할 때 정하며 이후에는 변경이 불가하다.  \n",
        "\n",
        "  \n",
        "Linked List   \n",
        ": 연결 리스트는 여러 개의 노드들이 순차적으로 연결된 형태를 갖는 자료구조이며, 첫번째 노드를 head, 마지막 노드를 tail이라고 한다.\n",
        "각 노드는 데이터와 다음 노드를 가리키는 포인터로 이루어져있다.\n",
        "배열과는 다르게 메모리를 연속적으로 사용하지 않고, 순차적으로 접근하여 배열에 비해 불리할 수 있으나, 노드가 연결된 구조이기 때문에 삽입, 삭제에 용이하다.\n",
        "\n",
        "Python List   \n",
        ": 파이썬 리스트는 동적 배열개념을 기반으로 동작한다. 인덱스로 접근 가능하고, 배열의 크기 변경도 가능하다. 연결리스트처럼 노드를 저장하는 것이 아닌, 연속된 메모리 블록을 사용하는 방식이다.\n",
        "\n",
        "이로써 파이썬 리스트는 연결 리스트가 아닌 배열, 동적 배열이라고 할 수 있다."
      ]
    },
    {
      "cell_type": "markdown",
      "metadata": {
        "id": "QPUYRpB_X_5Z"
      },
      "source": [
        "---"
      ]
    },
    {
      "cell_type": "markdown",
      "metadata": {
        "id": "9vBRxRfBX_5Z"
      },
      "source": [
        "\n",
        "[문제4]\n",
        "\n",
        "딕셔너리 자료형에 대해 설명해주세요."
      ]
    },
    {
      "cell_type": "markdown",
      "metadata": {
        "id": "MZB-1c3zX_5Z"
      },
      "source": [
        "딕셔너리 자료형  \n",
        "* 키(key)와 값(value)의 쌍을 데이터로 가짐\n",
        "* list나 tuple처럼 순차적으로 원소 값을 구하지 않고 key를 통해 value를 구함\n",
        "* 따라서 변경 불가능한 자료형만 key로 사용할 수 있다."
      ]
    },
    {
      "cell_type": "markdown",
      "metadata": {
        "id": "scs6RR0NX_5Z"
      },
      "source": [
        "---"
      ]
    }
  ],
  "metadata": {
    "colab": {
      "provenance": []
    },
    "kernelspec": {
      "display_name": "Python 3",
      "name": "python3"
    },
    "language_info": {
      "name": "python"
    }
  },
  "nbformat": 4,
  "nbformat_minor": 0
}