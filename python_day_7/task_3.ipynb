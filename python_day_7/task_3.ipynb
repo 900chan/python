{
 "cells": [
  {
   "cell_type": "markdown",
   "metadata": {},
   "source": [
    "사용자로부터 여러 개의 숫자를 입력받아 리스트에 저장한 후, 사용자가 'done'이라고 입력할 때까지 계속 입력받으세요. \n",
    "\n",
    "- 입력 중 숫자가 아닌 값이 입력되면 ValueError를 처리\n",
    "- 숫자 외 값이 입력된 경우 어떤 값이 잘못 입력되었는지 사용자에게 알려주는 문구 출력<br>\n",
    "  (예: f\"잘못된 값: {변수}. 숫자를 입력해주세요.\")\n",
    "\n"
   ]
  },
  {
   "metadata": {
    "ExecuteTime": {
     "end_time": "2025-04-24T05:44:25.360265Z",
     "start_time": "2025-04-24T05:44:20.441956Z"
    }
   },
   "cell_type": "code",
   "source": [
    "list_number = []\n",
    "while True:\n",
    "    try:\n",
    "        list_input = input(\"원하는 숫자를 입력하세요. * 종료를 원하시면 done를 입력해주세요.\")\n",
    "        if list_input == \"done\":\n",
    "            print(list_number)\n",
    "            break\n",
    "        list_number.append(int(list_input))\n",
    "\n",
    "\n",
    "    except ValueError:\n",
    "        print(f\"잘못된 값: {list_input}. 숫자를 입력해주세요.\")"
   ],
   "outputs": [
    {
     "name": "stdout",
     "output_type": "stream",
     "text": [
      "[2, 3, 5]\n"
     ]
    }
   ],
   "execution_count": 15
  }
 ],
 "metadata": {
  "language_info": {
   "name": "python"
  }
 },
 "nbformat": 4,
 "nbformat_minor": 2
}
