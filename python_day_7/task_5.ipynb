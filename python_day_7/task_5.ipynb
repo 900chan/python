{
 "cells": [
  {
   "cell_type": "markdown",
   "metadata": {},
   "source": [
    "datetime 모듈을 사용하여 현재 날짜와 시간을 출력하는 프로그램을 작성하세요. \n",
    "\n",
    "또한, 사용자로부터 태어난 년도를 입력받아 현재 나이를 계산하여 출력하세요."
   ]
  },
  {
   "metadata": {
    "ExecuteTime": {
     "end_time": "2025-04-24T06:43:46.965559Z",
     "start_time": "2025-04-24T06:43:43.475737Z"
    }
   },
   "cell_type": "code",
   "source": [
    "from datetime import datetime\n",
    "now = datetime.now()\n",
    "print(\"현재 날짜 & 시간 : \", now)\n",
    "\n",
    "admin_info = int(input(\"태어난 년도를 입력해주세요, :\"))\n",
    "age = now.year - admin_info\n",
    "print(f'사용자의 현재 나이는 {age}세 입니다.')"
   ],
   "outputs": [
    {
     "name": "stdout",
     "output_type": "stream",
     "text": [
      "현재 날짜 & 시간 :  2025-04-24 15:43:43.477142\n",
      "사용자의 현재 나이는 25세 입니다.\n"
     ]
    }
   ],
   "execution_count": 11
  }
 ],
 "metadata": {
  "language_info": {
   "name": "python"
  }
 },
 "nbformat": 4,
 "nbformat_minor": 2
}
