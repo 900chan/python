{
 "cells": [
  {
   "cell_type": "markdown",
   "metadata": {},
   "source": [
    "함수 실행 시간을 측정하는 데코레이터 timer_decorator를 작성하세요. \n",
    "\n",
    "임의의 함수가 실행되는 시간을 측정하여 \"함수 실행 시간: x.xx초\" 형태로 출력하세요."
   ]
  },
  {
   "metadata": {
    "ExecuteTime": {
     "end_time": "2025-04-24T07:53:55.857001Z",
     "start_time": "2025-04-24T07:53:55.846261Z"
    }
   },
   "cell_type": "code",
   "source": [
    "import time\n",
    "def logging_time(function):\n",
    "    def wrapper(*args, **kwargs):\n",
    "        start_time = time.time()\n",
    "        result = function(*args, **kwargs)\n",
    "        end_time = time.time()\n",
    "        print(f'함수 실행 시간 : {end_time - start_time:.2f}초')\n",
    "        return result\n",
    "    return wrapper\n",
    "\n",
    "@logging_time\n",
    "def function_1():\n",
    "    print(\"hello world\")\n",
    "function_1()\n"
   ],
   "outputs": [
    {
     "name": "stdout",
     "output_type": "stream",
     "text": [
      "hello world\n",
      "함수 실행 시간 : 0.00초\n"
     ]
    }
   ],
   "execution_count": 24
  }
 ],
 "metadata": {
  "language_info": {
   "name": "python"
  }
 },
 "nbformat": 4,
 "nbformat_minor": 2
}
