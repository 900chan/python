{
 "cells": [
  {
   "cell_type": "markdown",
   "metadata": {},
   "source": [
    "파일을 읽어서 내용을 출력하는 프로그램을 작성하세요. \n",
    "\n",
    "- 파일이 존재하지 않을 때 발생하는 FileNotFoundError를 처리\n",
    "- 파일이 존재하지 않을 경우 \"파일을 찾을 수 없습니다.\"라는 메시지를 출력"
   ]
  },
  {
   "metadata": {
    "ExecuteTime": {
     "end_time": "2025-04-24T05:28:45.608968Z",
     "start_time": "2025-04-24T05:28:45.604363Z"
    }
   },
   "cell_type": "code",
   "source": [
    "try:\n",
    "    a = open(task.txt, 'r')\n",
    "\n",
    "except Exception as exception:\n",
    "    print(\"파일을 찾을 수 없습니다.\")\n",
    "    print(\"type(exception) : \", type(exception))\n",
    "    print(\"exception : \", exception)\n"
   ],
   "outputs": [
    {
     "name": "stdout",
     "output_type": "stream",
     "text": [
      "파일을 찾을 수 없습니다.\n",
      "type(exception) :  <class 'NameError'>\n",
      "exception :  name 'task' is not defined\n"
     ]
    }
   ],
   "execution_count": 7
  }
 ],
 "metadata": {
  "language_info": {
   "name": "python"
  }
 },
 "nbformat": 4,
 "nbformat_minor": 2
}
