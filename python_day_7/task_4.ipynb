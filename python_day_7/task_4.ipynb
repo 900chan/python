{
 "cells": [
  {
   "cell_type": "markdown",
   "metadata": {},
   "source": [
    "사용자 정의 예외 NegativeNumberError를 생성하고, 사용자로부터 숫자를 입력받아 음수일 경우 NegativeNumberError를 발생시키는 프로그램을 작성하세요. \n",
    "\n",
    "- 예외 처리 구문을 사용하여 음수 입력 시 \"양수를 입력해주세요.\"라는 메시지를 출력"
   ]
  },
  {
   "metadata": {
    "ExecuteTime": {
     "end_time": "2025-04-24T06:14:12.937352Z",
     "start_time": "2025-04-24T06:14:10.696855Z"
    }
   },
   "cell_type": "code",
   "source": [
    "class NegativeNumberError(Exception):\n",
    "    def __init__(self, msg):\n",
    "        self.msg = msg\n",
    "    def __str__(self):\n",
    "        return \"[NegativeNumberError] : 음수가 입력되었습니다. \" + self.msg\n",
    "\n",
    "    try:\n",
    "        yangsoo = int(input(\"양수를 입력해주세요: \"))\n",
    "        if yangsoo < 0:\n",
    "            raise NegativeNumberError(\"양수를 입력해주세요.\")\n",
    "    except NegativeNumberError as e:\n",
    "        print(e)\n",
    "\n",
    "\n",
    "\n"
   ],
   "outputs": [
    {
     "name": "stdout",
     "output_type": "stream",
     "text": [
      "[NegativeNumberError] : 음수가 입력되었습니다.양수를 입력해주세요.\n"
     ]
    }
   ],
   "execution_count": 29
  }
 ],
 "metadata": {
  "language_info": {
   "name": "python"
  }
 },
 "nbformat": 4,
 "nbformat_minor": 2
}
