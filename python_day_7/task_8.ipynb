{
 "cells": [
  {
   "cell_type": "markdown",
   "metadata": {},
   "source": [
    "여러분이 자주 사용하는 수학적 연산<br>\n",
    "(예: 삼각형 넓이, 원의 넓이, 직육면체의 넓이)을 수행하는 함수들을 포함하는 mymath.py라는 이름의 모듈을 만드세요. \n",
    "\n",
    "이 모듈을 사용하여 작성된 함수들을 실제로 임포트하고 사용하는 간단한 프로그램을 작성하세요."
   ]
  },
  {
   "metadata": {},
   "cell_type": "code",
   "outputs": [],
   "execution_count": null,
   "source": [
    "from mymath import triangle, circle, square\n",
    "\n",
    "numbers = [1, 2, 3, 4, 5]\n",
    "\n",
    "triangle(5, 15)\n",
    "print(\"삼각형의 넓이:\", triangle(low_line, height))\n",
    "\n",
    "circle(5)\n",
    "print(\"원의 넓이:\", circle(radius))\n",
    "\n",
    "square(7, 15, 8)\n",
    "print(\"직육면체 넓이:\", square(length, width, height))\n"
   ]
  }
 ],
 "metadata": {
  "language_info": {
   "name": "python"
  }
 },
 "nbformat": 4,
 "nbformat_minor": 2
}
