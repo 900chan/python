{
  "cells": [
    {
      "cell_type": "markdown",
      "metadata": {
        "id": "7QfvfnlCxuij"
      },
      "source": [
        "<span style=\"font-size:100%\">\n",
        "\n",
        "수업은 모두 열심히 들으셨나요?\n",
        "\n",
        "간혹 강의에서 언급되지 않은 내용이 문제로 나올 수 있습니다.<br>\n",
        "그럴땐 강의 내용 외 문제는 구글링을 통해 해결해주세요<br></span>\n",
        "<span style=\"font-size:80%\">\n",
        "(구글링 또한 개발자가 갖쳐야할 역량 중에 하나랍니다 😊)\n",
        "</span>\n",
        "\n",
        "---"
      ]
    },
    {
      "cell_type": "markdown",
      "metadata": {
        "id": "zmjQ5Uu3xuil"
      },
      "source": [
        "<span style=\"font-size:80%\">[문제1]<br><br></span>\n",
        "```변수 퀴즈에 들어있는 정답 \"어중이떠중이\"를 출력하기 위한 슬라이싱으로 올바른 것을 모두 골라주세요```\n",
        "\n",
        "퀴즈 = \"스님이 공중에 뜬다를 4글자로 말하면? 어중이떠중이\"\n",
        "\n",
        "1. print(퀴즈[22:27])\n",
        "2. print(퀴즈[22:])\n",
        "3. print(퀴즈[22:28])\n",
        "4. print(퀴즈[28])"
      ]
    },
    {
      "cell_type": "markdown",
      "metadata": {
        "id": "hKr-27Bwxuil"
      },
      "source": [
        "<span style=\"color:red\">답변</span>"
      ]
    },
    {
      "cell_type": "markdown",
      "metadata": {
        "id": "VjcWvdABxuil"
      },
      "source": [
        "2, 3"
      ]
    },
    {
      "cell_type": "markdown",
      "metadata": {
        "id": "A99DtJVrxuil"
      },
      "source": [
        "----"
      ]
    },
    {
      "cell_type": "markdown",
      "metadata": {
        "id": "xisJMs8Rxuil"
      },
      "source": [
        "<span style=\"font-size:80%\">[문제2]<br><br></span>\n",
        "```과일 변수에 들어있는 p의 개수를 구하는 코드로 올바른 것을 골라주세요```\n",
        "\n",
        "과일 = \"apple\"\n",
        "\n",
        "1. 과일.count('p')\n",
        "2. count(과일, 'p')\n",
        "3. 과일.index('p')\n",
        "4. count('p')"
      ]
    },
    {
      "cell_type": "markdown",
      "metadata": {
        "id": "P4SNq1dWxuim"
      },
      "source": [
        "<span style=\"color:red\">답변</span>"
      ]
    },
    {
      "cell_type": "markdown",
      "metadata": {
        "id": "g0XmIoVnxuim"
      },
      "source": [
        "1. 과일.count('p')"
      ]
    },
    {
      "cell_type": "markdown",
      "metadata": {
        "id": "khp2JtK9xuim"
      },
      "source": [
        "----"
      ]
    },
    {
      "cell_type": "markdown",
      "metadata": {
        "id": "iLyJug3oxuim"
      },
      "source": [
        "<span style=\"font-size:80%\">[문제3]<br><br></span>\n",
        "``` bool 타입에 해당하는 것만 골라주세요```\n",
        "\n",
        "1. true\n",
        "2. True\n",
        "3. False\n",
        "4. 0\n",
        "5. 1"
      ]
    },
    {
      "cell_type": "markdown",
      "metadata": {
        "id": "k08isGADxuim"
      },
      "source": [
        "<span style=\"color:red\">답변</span>"
      ]
    },
    {
      "cell_type": "markdown",
      "metadata": {
        "id": "SqaIXMhrxuim"
      },
      "source": [
        "2, 3"
      ]
    },
    {
      "cell_type": "markdown",
      "metadata": {
        "id": "3X-rwBEZxuim"
      },
      "source": [
        "----"
      ]
    },
    {
      "cell_type": "markdown",
      "metadata": {
        "id": "3b7Yt1Yxxuim"
      },
      "source": [
        "<span style=\"font-size:80%\">[문제4]<br><br></span>\n",
        "```문자열의 길이를 구하는 방법으로 올바른 것을 고르세요```\n",
        "\n",
        "라라랜드 =  \"사람들은 다른 사람들의 열정에 끌리게 되어있어 자신이 잊은 걸 상기시켜 주니까\"\n",
        "\n",
        "1. 라라랜드.len()\n",
        "2. length(라라랜드)\n",
        "3. len(라라랜드)\n",
        "4. count(라라랜드)"
      ]
    },
    {
      "cell_type": "markdown",
      "metadata": {
        "id": "--yptXy9xuin"
      },
      "source": [
        "<span style=\"color:red\">답변</span>"
      ]
    },
    {
      "cell_type": "markdown",
      "metadata": {
        "id": "MuU8PEVixuin"
      },
      "source": [
        "3. len(라라랜드)"
      ]
    },
    {
      "cell_type": "markdown",
      "metadata": {
        "id": "xhwRmLUsxuin"
      },
      "source": [
        "----"
      ]
    },
    {
      "cell_type": "markdown",
      "metadata": {
        "id": "VAXjelR3xuin"
      },
      "source": [
        "<span style=\"font-size:80%\">[문제5]<br><br></span>\n",
        "```우영우 변수에 출력 값이 반대로 나오게 코드를 작성해주세요```\n",
        "\n",
        "우영우 = \"기러기토마토스위스역삼역\"\n",
        "\n",
        "출력값 : 역삼역스위스토마토기러기\n"
      ]
    },
    {
      "cell_type": "markdown",
      "metadata": {
        "id": "QxOCSlorxuin"
      },
      "source": [
        "<span style=\"color:red\">답변</span>"
      ]
    },
    {
      "cell_type": "markdown",
      "metadata": {
        "id": "3nlf5fKLxuin"
      },
      "source": [
        "print(우영우[::-1])"
      ]
    }
  ],
  "metadata": {
    "language_info": {
      "name": "python"
    },
    "colab": {
      "provenance": []
    },
    "kernelspec": {
      "name": "python3",
      "display_name": "Python 3"
    }
  },
  "nbformat": 4,
  "nbformat_minor": 0
}