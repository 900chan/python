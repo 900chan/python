{
  "cells": [
    {
      "cell_type": "markdown",
      "metadata": {
        "id": "WXEwMsfUct7U"
      },
      "source": [
        "안녕하세요.<br><br>\n",
        "수강생 여러분~!\n",
        "\n",
        "\"Challenge : Chapter05 ~ 08 문제풀기\"는 잘 풀어보셨나요?\n",
        "\n",
        "\n",
        "너~~무 어려웠어요! 하는 분들을 위해 만들어봤습니다!\n",
        "\n",
        "문제 도장깨기 !!!!!\n",
        "\n",
        "차근차근 풀어나가면 파이썬 정복 가능입니다!\n",
        "\n",
        "화이팅 !\n",
        "\n",
        "\n",
        "Chapter05~08의 수업 내용을 바탕으로 아래 문제를 풀어주시면 됩니다.\n",
        "\n",
        "<br>\n",
        "\n",
        "[**답변 입력 방법**]\n",
        "\n",
        "문제 아래에 있는 코드 입력창에 정답코드를 작성하신 후  __▷ 버튼을 클릭해 코드를 실행__ 해보세요<br>\n",
        "<br>"
      ]
    },
    {
      "cell_type": "markdown",
      "metadata": {
        "id": "qoyC9wF-3hvs"
      },
      "source": [
        "-----"
      ]
    },
    {
      "cell_type": "markdown",
      "metadata": {
        "id": "QIAtty8_TkCQ"
      },
      "source": [
        "<br>\n",
        "\n",
        "__[문제1]__\n",
        "\n",
        "코딩나라는 파이썬 문법을 통해 타이틀을 바꿔주면 신분을 변경할 수 있습니다.\n",
        "평민이 왕의 타이틀을 뻇으려고 합니다.\n",
        "평민의 신분상승 도와주세요 ! 그리고 출력으로 확인시켜주세요 !\n",
        "\n",
        "<br>\n",
        "출력 예)\n",
        "\n",
        "평민은 이제 '왕'\n",
        "\n",
        "왕은 이제 '평민'\n",
        "<br>"
      ]
    },
    {
      "cell_type": "code",
      "execution_count": null,
      "metadata": {
        "colab": {
          "base_uri": "https://localhost:8080/"
        },
        "id": "55bsolVbTkCR",
        "outputId": "3e470c9a-34d5-4679-fe26-9c6fe768e207"
      },
      "outputs": [
        {
          "output_type": "stream",
          "name": "stdout",
          "text": [
            "평민은 이제 왕\n",
            "왕은 이제 평민\n"
          ]
        }
      ],
      "source": [
        "title = \"왕\"\n",
        "\n",
        "print(\"평민은 이제\", title)\n",
        "\n",
        "title = \"평민\"\n",
        "\n",
        "print(\"왕은 이제\", title)\n"
      ]
    },
    {
      "cell_type": "markdown",
      "metadata": {
        "id": "eR8RNzJ4TkCR"
      },
      "source": [
        "<br>\n",
        "\n",
        "__[문제2]__\n",
        "\n",
        "꿈에서 숫자가 보였습니다.\n",
        "\n",
        "바로 로또를 사려고 하는데 앗 숫자가 너무 길어요 !\n",
        "\n",
        "정수부분만 잘라서 로또 번호를 골라보기로 했습니다.\n",
        "\n",
        "122211170788345.273782741828653689149813 정수 부분만 출력해주세요.\n",
        "\n",
        "\n",
        "<br>"
      ]
    },
    {
      "cell_type": "code",
      "source": [
        "\n",
        "num = 122211170788345.273782741828653689149813\n",
        "print(int(num))\n",
        "\n",
        "\n"
      ],
      "metadata": {
        "colab": {
          "base_uri": "https://localhost:8080/"
        },
        "id": "dhkyrSx7ZLGy",
        "outputId": "d5e3d2c2-b5b7-4374-8896-39f99aaf9f0f"
      },
      "execution_count": 2,
      "outputs": [
        {
          "output_type": "stream",
          "name": "stdout",
          "text": [
            "122211170788345\n"
          ]
        }
      ]
    },
    {
      "cell_type": "markdown",
      "metadata": {
        "id": "rAD_O3Gmc_43"
      },
      "source": [
        "<br>\n",
        "\n",
        "__[문제3]__\n",
        "\n",
        "\n",
        "sentence 변수를 할당하고, 양쪽 공백을 제거한 후 출력해주세요 !\n",
        "\n",
        "<br>\n",
        "\n",
        "__sentence = \" Hello World!  \"__\n"
      ]
    },
    {
      "cell_type": "code",
      "execution_count": null,
      "metadata": {
        "id": "74wtVQFFc_h1",
        "colab": {
          "base_uri": "https://localhost:8080/"
        },
        "outputId": "5fe4f3e4-faae-4eae-d121-7e4b7d6194d6"
      },
      "outputs": [
        {
          "output_type": "stream",
          "name": "stdout",
          "text": [
            "Hello World!\n"
          ]
        }
      ],
      "source": [
        "sentence = \" Hello World!  \"\n",
        "answer = sentence.strip()\n",
        "print(answer)\n",
        "\n"
      ]
    },
    {
      "cell_type": "markdown",
      "metadata": {
        "id": "3uK_auXYdgk2"
      },
      "source": [
        "<br>__[문제4]__\n",
        "\n",
        "산만이가 집중력 테스트를 하기로 합니다.\n",
        "\n",
        "아주아주 긴 문자열이 있는데 여기에서 s의 횟수를 세보라고 합니다.\n",
        "\n",
        "파이썬을 배운 산만이에게는 꼼수가 있습니다.\n",
        "\n",
        "어떤 꼼수를 사용했을지 코드로 작성하고, 출력해주세요 !\n",
        "\n",
        "<br>\n",
        "\n",
        "__str = \"sdsdsddddddsdsssdssssdssssdsdssssssssssdsdsdsdsdssssdsdsssdssssdssssdsdssdsssdssssdssssdsdssdsssdssssdssssdsdssdsssdssssdssssdsdss\"__\n"
      ]
    },
    {
      "cell_type": "code",
      "execution_count": null,
      "metadata": {
        "id": "9kvBxa6PdhgA",
        "colab": {
          "base_uri": "https://localhost:8080/"
        },
        "outputId": "a7c53106-c1a4-4eb1-cb97-b3297523d9b6"
      },
      "outputs": [
        {
          "output_type": "execute_result",
          "data": {
            "text/plain": [
              "91"
            ]
          },
          "metadata": {},
          "execution_count": 90
        }
      ],
      "source": [
        "str = \"sdsdsddddddsdsssdssssdssssdsdssssssssssdsdsdsdsdssssdsdsssdssssdssssdsdssdsssdssssdssssdsdssdsssdssssdssssdsdssdsssdssssdssssdsdss\"\n",
        "str.count('s')"
      ]
    },
    {
      "cell_type": "markdown",
      "metadata": {
        "id": "2Jte2VLKdiPm"
      },
      "source": [
        "__[문제5]__\n",
        "\n",
        "\n",
        "변수 data에 \"apple, banana, cherry\"를 할당하고, 이를 쉼표 기준으로 분리하여 출력해주세요 !"
      ]
    },
    {
      "cell_type": "code",
      "execution_count": null,
      "metadata": {
        "colab": {
          "base_uri": "https://localhost:8080/"
        },
        "id": "T1kw0WIWTkCT",
        "outputId": "9e535b1d-c097-48d5-f6ac-412b0a9dd63f"
      },
      "outputs": [
        {
          "output_type": "stream",
          "name": "stdout",
          "text": [
            "apple  banana  cherry\n"
          ]
        }
      ],
      "source": [
        "data = \"apple, banana, cherry\"\n",
        "사과 = \"apple\"\n",
        "바나나 = \"banana\"\n",
        "체리 = \"cherry\"\n",
        "\n",
        "print(f'{사과}  {바나나}  {체리}')\n",
        "\n",
        "#data = \"apple, banana, cherry\"\n",
        "#answer = data.split(\", \")  # 쉼표를 기준으로 분리\n",
        "#print(answer)  # 출력: ['apple', 'banana', 'cherry']\n"
      ]
    }
  ],
  "metadata": {
    "colab": {
      "provenance": []
    },
    "kernelspec": {
      "display_name": "Python 3",
      "name": "python3"
    },
    "language_info": {
      "name": "python"
    }
  },
  "nbformat": 4,
  "nbformat_minor": 0
}