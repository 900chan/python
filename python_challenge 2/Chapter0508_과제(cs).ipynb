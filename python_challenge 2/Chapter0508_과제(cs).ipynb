{
  "cells": [
    {
      "cell_type": "markdown",
      "metadata": {
        "id": "WXEwMsfUct7U"
      },
      "source": [
        "컴퓨터 기초 지식을 의미하는 CS(Computer science)는<br>\n",
        "코딩 테스트와 함께 기술 면접에서 지원자에게 필수적으로 요구합니다.<br>\n",
        "\n",
        "수업 내용 중 기술 면접에 자주 나오는 질문 3가지와 기본적으로 알아야 할 내용 과제로 선정했습니다.<br>\n",
        "\n",
        "관련 내용에 대해서는 구글링 또는 관련 서적을 통해 상세히 공부하시고<br>\n",
        "답변은 최대한 핵심만 담아 간결하게 작성해주세요<br>\n",
        "\n",
        "기술 블로그를 운영 중이신 경우<br>\n",
        "답변 내용을 기술 블로그에 작성하신 후 링크를 답변에 남겨주셔도 됩니다.<br>"
      ]
    },
    {
      "cell_type": "markdown",
      "metadata": {
        "id": "qoyC9wF-3hvs"
      },
      "source": [
        "-----"
      ]
    },
    {
      "cell_type": "markdown",
      "metadata": {
        "id": "rAD_O3Gmc_43"
      },
      "source": [
        "[문제1]\n",
        "\n",
        "Python의 변수 할당 개념을 다른 언어와 비교해 설명해주세요\n"
      ]
    },
    {
      "cell_type": "markdown",
      "metadata": {
        "id": "ee0Ekyuv5b7_"
      },
      "source": [
        "Python   \n",
        ": 이름(Name)이 객체(object)를 가리킨다는 개념, 변수는 값을 저장하는 것이 아닌 객체에 대한 참조를 저장\n",
        "\n",
        "C, C++  \n",
        ": 메모리의 특정 공간을 직접 가리킨다, 일반 적인 변수는 값 자체를 복사\n",
        "\n",
        "Java    \n",
        ": 기본 자료형은 값 복사, 객체는 참조 복사\n",
        "\n",
        "JavaScript   \n",
        ": 원시 타입은 값 복사, 객체는 참조 복사\n",
        "python과 객체에 대해 동작하는 방식이 매우 유사\n",
        "\n",
        "요약  \n",
        "-Python, C++, Java 등 많은 언어들은 '=' 연산자를 활용해서 변수를 선언한다. C++와 같은 언어는 메모리에 변수가 저장되는 방식으로 관리하여 새로운 변수에 다른 선언된 변수를 할당하면 새로운 메모리에 동일한 객체가 복사되는 방식으로 저장된다. Python의 변수 대입은 새로운 메모리의 할당이 아닌 객체에 대한 참조로 객체를 생성하고 변수는 객체를 지시만 하면 되는 비교적 간단한 언어로 보인다."
      ]
    },
    {
      "cell_type": "markdown",
      "metadata": {
        "id": "zhQnwBCK5b7_"
      },
      "source": [
        "---"
      ]
    },
    {
      "cell_type": "markdown",
      "metadata": {
        "id": "3uK_auXYdgk2"
      },
      "source": [
        "[문제2]\n",
        "\n",
        "Python의 실수형(float) 계산 시 오차가 발생하는 이유에 대해 간단히 설명해 주세요"
      ]
    },
    {
      "cell_type": "markdown",
      "source": [
        "이유는 컴퓨터는 숫자를 2진수로 받아들이기 때문에 생기는 것이다. 컴퓨터의 메모리에도 한계가 있고 무한 반복되는 값에서 근사값을 저장하게 되는데 여기서 오차가 발생하게 되는 것이다.\n",
        "\n",
        "근사값을 저장하는 방식으로는 고정소수점과 부동소수점 두가지 방식이있다.\n",
        "\n",
        "고정소수점  \n",
        ": 정수를 표현하는 비트와 소수를 표현하는 비트 수를 미리 고정하고 해당 비트만을 활용하여 실수를 표현하는 방식  \n",
        "ex) 부호 부분 = 1bit, 정소 저장부분 = 15bit, 소수 표현부분 = 16bit와 같이 고정  \n",
        "-> 이렇게 되면 소수를 표현할 수 있는 부분은 16bit 밖에 안되므로 소수 값이 0.3처럼 2진수로 변환하였을때 무한인 경우 정확한 표현이 불가능해짐\n",
        "\n",
        "부동소수점  \n",
        ": 소수점이 옮겨다니는 방식의 실수를 표현하는 방식\n",
        "ex)2진수를 정규화하여 부호 = 1bit, 지수부 = 8bit, 가수부 =23bit  \n",
        "->고정 소수점에 비해 더 큰 실수를 표현할 수 있지만 컴퓨터 하드웨어가 가지는 본질적인 한계점으로 인해 실수 연산이 부정확할 수 있음.\n",
        "\n",
        "결론  \n",
        ": 컴퓨터는 부동소수점을 이용하여 2진수로 근사값을 정하는데 이때문에 float형끼리의 저장 또는 연산에서 정확한 계산이 일어나지 않아 오차가 발생하는 것이다."
      ],
      "metadata": {
        "id": "GWVttua493ZP"
      }
    },
    {
      "cell_type": "markdown",
      "metadata": {
        "id": "yCJ9NyXa5b8A"
      },
      "source": [
        "----"
      ]
    },
    {
      "cell_type": "markdown",
      "metadata": {
        "id": "2Jte2VLKdiPm"
      },
      "source": [
        "[문제3]\n",
        "\n",
        "슬라이싱에 대해 간단히 설명해주세요"
      ]
    },
    {
      "cell_type": "markdown",
      "source": [
        "슬라이싱이란?  \n",
        ": list, tuple, numpy, string와 같이 연속적인 객체에서 특정 법위를 선택해 새로운 객체를 만드는 것 -> 인덱싱(indexing)이 가능한 객체들에 사용 가능\n"
      ],
      "metadata": {
        "id": "0E3_3m_KAgqL"
      }
    }
  ],
  "metadata": {
    "colab": {
      "provenance": []
    },
    "kernelspec": {
      "display_name": "Python 3",
      "name": "python3"
    },
    "language_info": {
      "name": "python"
    }
  },
  "nbformat": 4,
  "nbformat_minor": 0
}